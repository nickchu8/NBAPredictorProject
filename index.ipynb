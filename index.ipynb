{
 "cells": [
  {
   "cell_type": "raw",
   "metadata": {},
   "source": [
    "---\n",
    "title: \"NBA Playoff Predictor Model\"\n",
    "image: catdog.jpg\n",
    "author: \"Nicholas Chu, Tom Binford, Peter Nguyen\"\n",
    "categories: [Python, Scrapy, Tensorflow, PySimpleGUI]\n",
    "---"
   ]
  },
  {
   "cell_type": "markdown",
   "metadata": {},
   "source": [
    "# Overview"
   ]
  },
  {
   "cell_type": "markdown",
   "metadata": {},
   "source": [
    "Every year, millions of basketball fans root for their favorite NBA teams as they try to predict final playoffs brackets. While people usually have a sense of how good a team is based on its players, we wanted to find a way to utilize neural networks to predict the outcome of the playoffs for a given season. To classify the  We first scraped regular season game data across seasons from 2000-2023, obtaining statistics from each indivual game, like points, rebounds, assists, field goal %, etc., as well as the winner of the game. From there, we query the database to get the specific date range of games and teams we want to train the model on. Then, after constructing an appropriate neural network, we test our model and see what the playoffs look like for a given season.\n",
    "\n",
    "There are 4 main technical components to our project: scraping the NBA regular season data with scrapy, querying the database filled with that data with sqlite3, creating a neural network via a GUI with PySimpleGUI, and evaluating the neural network itself with Tensorflow Keras. We will go more into detail about these components and how we fit them all together below.\n",
    "\n"
   ]
  },
  {
   "cell_type": "markdown",
   "metadata": {},
   "source": [
    "## Technical Component 1: Scraping NBA Regular Season Data with Scrapy"
   ]
  },
  {
   "cell_type": "markdown",
   "metadata": {},
   "source": []
  },
  {
   "cell_type": "markdown",
   "metadata": {},
   "source": [
    "## Technical Component 2: Querying Databases with Sqlite3"
   ]
  },
  {
   "cell_type": "markdown",
   "metadata": {},
   "source": []
  },
  {
   "cell_type": "markdown",
   "metadata": {},
   "source": [
    "## Technical Component 3: Neural Network Constructor GUI with PySimpleGUI"
   ]
  },
  {
   "cell_type": "markdown",
   "metadata": {},
   "source": []
  },
  {
   "cell_type": "markdown",
   "metadata": {},
   "source": [
    "## Techincal Component 4: Evaluating Neural Network with Tensorflow Keras"
   ]
  },
  {
   "cell_type": "markdown",
   "metadata": {},
   "source": []
  },
  {
   "cell_type": "markdown",
   "metadata": {},
   "source": [
    "## Conclusion and Remarks"
   ]
  },
  {
   "cell_type": "code",
   "execution_count": null,
   "metadata": {},
   "outputs": [],
   "source": []
  }
 ],
 "metadata": {
  "kernelspec": {
   "display_name": "Python 3 (ipykernel)",
   "language": "python",
   "name": "python3"
  },
  "language_info": {
   "codemirror_mode": {
    "name": "ipython",
    "version": 3
   },
   "file_extension": ".py",
   "mimetype": "text/x-python",
   "name": "python",
   "nbconvert_exporter": "python",
   "pygments_lexer": "ipython3",
   "version": "3.9.12"
  }
 },
 "nbformat": 4,
 "nbformat_minor": 4
}
