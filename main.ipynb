{
 "cells": [
  {
   "cell_type": "code",
   "execution_count": 1,
   "metadata": {},
   "outputs": [],
   "source": [
    "import tensorflow as tf\n",
    "from tensorflow import keras\n",
    "from keras import utils\n",
    "from keras import datasets, layers, models\n",
    "\n",
    "import numpy as np\n",
    "import matplotlib.pyplot as plt"
   ]
  },
  {
   "cell_type": "code",
   "execution_count": 1,
   "metadata": {},
   "outputs": [],
   "source": [
    "from gui import create_model_gui"
   ]
  },
  {
   "cell_type": "code",
   "execution_count": 2,
   "metadata": {},
   "outputs": [
    {
     "ename": "ValueError",
     "evalue": "could not convert string to float: ''",
     "output_type": "error",
     "traceback": [
      "\u001b[1;31m---------------------------------------------------------------------------\u001b[0m",
      "\u001b[1;31mValueError\u001b[0m                                Traceback (most recent call last)",
      "\u001b[1;32mc:\\Users\\nyc8p\\OneDrive\\Documents\\GitHub\\NBAPredictorProject\\main.ipynb Cell 3\u001b[0m line \u001b[0;36m1\n\u001b[1;32m----> <a href='vscode-notebook-cell:/c%3A/Users/nyc8p/OneDrive/Documents/GitHub/NBAPredictorProject/main.ipynb#W2sZmlsZQ%3D%3D?line=0'>1</a>\u001b[0m params_dict \u001b[39m=\u001b[39m create_model_gui()\n\u001b[0;32m      <a href='vscode-notebook-cell:/c%3A/Users/nyc8p/OneDrive/Documents/GitHub/NBAPredictorProject/main.ipynb#W2sZmlsZQ%3D%3D?line=1'>2</a>\u001b[0m params_dict\n",
      "File \u001b[1;32mc:\\Users\\nyc8p\\OneDrive\\Documents\\GitHub\\NBAPredictorProject\\gui.py:119\u001b[0m, in \u001b[0;36mcreate_model_gui\u001b[1;34m()\u001b[0m\n\u001b[0;32m    112\u001b[0m layer_config \u001b[39m=\u001b[39m {\n\u001b[0;32m    113\u001b[0m \u001b[39m'\u001b[39m\u001b[39msize\u001b[39m\u001b[39m'\u001b[39m: \u001b[39mint\u001b[39m(values[\u001b[39mf\u001b[39m\u001b[39m'\u001b[39m\u001b[39m-LAYER_\u001b[39m\u001b[39m{\u001b[39;00mi\u001b[39m \u001b[39m\u001b[39m+\u001b[39m\u001b[39m \u001b[39m\u001b[39m1\u001b[39m\u001b[39m}\u001b[39;00m\u001b[39m_SIZE-\u001b[39m\u001b[39m'\u001b[39m]),\n\u001b[0;32m    114\u001b[0m \u001b[39m'\u001b[39m\u001b[39mtype\u001b[39m\u001b[39m'\u001b[39m: values[\u001b[39mf\u001b[39m\u001b[39m'\u001b[39m\u001b[39m-LAYER_\u001b[39m\u001b[39m{\u001b[39;00mi\u001b[39m \u001b[39m\u001b[39m+\u001b[39m\u001b[39m \u001b[39m\u001b[39m1\u001b[39m\u001b[39m}\u001b[39;00m\u001b[39m_TYPE-\u001b[39m\u001b[39m'\u001b[39m],\n\u001b[0;32m    115\u001b[0m \u001b[39m'\u001b[39m\u001b[39mactivation\u001b[39m\u001b[39m'\u001b[39m: values[\u001b[39mf\u001b[39m\u001b[39m'\u001b[39m\u001b[39m-LAYER_\u001b[39m\u001b[39m{\u001b[39;00mi\u001b[39m \u001b[39m\u001b[39m+\u001b[39m\u001b[39m \u001b[39m\u001b[39m1\u001b[39m\u001b[39m}\u001b[39;00m\u001b[39m_ACTIVATION-\u001b[39m\u001b[39m'\u001b[39m]\n\u001b[0;32m    116\u001b[0m }   \n\u001b[0;32m    118\u001b[0m \u001b[39mif\u001b[39;00m layer_config[\u001b[39m'\u001b[39m\u001b[39mtype\u001b[39m\u001b[39m'\u001b[39m] \u001b[39m==\u001b[39m \u001b[39m'\u001b[39m\u001b[39mDropout\u001b[39m\u001b[39m'\u001b[39m:\n\u001b[1;32m--> 119\u001b[0m     layer_config[\u001b[39m'\u001b[39m\u001b[39mdropout_rate\u001b[39m\u001b[39m'\u001b[39m] \u001b[39m=\u001b[39m \u001b[39mfloat\u001b[39;49m(values[\u001b[39mf\u001b[39;49m\u001b[39m'\u001b[39;49m\u001b[39m-LAYER_\u001b[39;49m\u001b[39m{\u001b[39;49;00mi\u001b[39m \u001b[39;49m\u001b[39m+\u001b[39;49m\u001b[39m \u001b[39;49m\u001b[39m1\u001b[39;49m\u001b[39m}\u001b[39;49;00m\u001b[39m_DROPOUT-\u001b[39;49m\u001b[39m'\u001b[39;49m])\n\u001b[0;32m    120\u001b[0m \u001b[39melif\u001b[39;00m layer_config[\u001b[39m'\u001b[39m\u001b[39mtype\u001b[39m\u001b[39m'\u001b[39m] \u001b[39m==\u001b[39m \u001b[39m'\u001b[39m\u001b[39mConv2D\u001b[39m\u001b[39m'\u001b[39m:\n\u001b[0;32m    121\u001b[0m     layer_config[\u001b[39m'\u001b[39m\u001b[39mkernel_size\u001b[39m\u001b[39m'\u001b[39m] \u001b[39m=\u001b[39m \u001b[39mint\u001b[39m(values[\u001b[39mf\u001b[39m\u001b[39m'\u001b[39m\u001b[39m-LAYER_\u001b[39m\u001b[39m{\u001b[39;00mi\u001b[39m \u001b[39m\u001b[39m+\u001b[39m\u001b[39m \u001b[39m\u001b[39m1\u001b[39m\u001b[39m}\u001b[39;00m\u001b[39m_KERNEL_SIZE-\u001b[39m\u001b[39m'\u001b[39m])\n",
      "\u001b[1;31mValueError\u001b[0m: could not convert string to float: ''"
     ]
    }
   ],
   "source": [
    "params_dict = create_model_gui()\n",
    "params_dict"
   ]
  },
  {
   "cell_type": "code",
   "execution_count": null,
   "metadata": {},
   "outputs": [],
   "source": []
  }
 ],
 "metadata": {
  "kernelspec": {
   "display_name": "PIC16B",
   "language": "python",
   "name": "python3"
  },
  "language_info": {
   "codemirror_mode": {
    "name": "ipython",
    "version": 3
   },
   "file_extension": ".py",
   "mimetype": "text/x-python",
   "name": "python",
   "nbconvert_exporter": "python",
   "pygments_lexer": "ipython3",
   "version": "3.9.18"
  }
 },
 "nbformat": 4,
 "nbformat_minor": 2
}
