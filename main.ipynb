{
 "cells": [
  {
   "cell_type": "markdown",
   "metadata": {},
   "source": [
    "# Obtaining Data"
   ]
  },
  {
   "cell_type": "code",
   "execution_count": 1,
   "metadata": {},
   "outputs": [],
   "source": [
    "import tensorflow as tf\n",
    "from tensorflow.keras import utils, models, layers\n",
    "from keras.callbacks import EarlyStopping\n",
    "from sklearn.model_selection import train_test_split\n",
    "import pandas as pd\n",
    "import numpy as np\n",
    "import matplotlib.pyplot as plt\n",
    "from gui import create_model_gui"
   ]
  },
  {
   "cell_type": "code",
   "execution_count": 30,
   "metadata": {},
   "outputs": [
    {
     "name": "stdout",
     "output_type": "stream",
     "text": [
      "Model: \"sequential_9\"\n",
      "_________________________________________________________________\n",
      " Layer (type)                Output Shape              Param #   \n",
      "=================================================================\n",
      " dense_18 (Dense)            (None, 128)               3456      \n",
      "                                                                 \n",
      " dense_19 (Dense)            (None, 64)                8256      \n",
      "                                                                 \n",
      " dense_20 (Dense)            (None, 32)                2080      \n",
      "                                                                 \n",
      " dense_21 (Dense)            (None, 1)                 33        \n",
      "                                                                 \n",
      "=================================================================\n",
      "Total params: 13,825\n",
      "Trainable params: 13,825\n",
      "Non-trainable params: 0\n",
      "_________________________________________________________________\n"
     ]
    },
    {
     "data": {
      "text/plain": [
       "{'Season': '2000-2001', 'loss function': 'Cross Entropy'}"
      ]
     },
     "execution_count": 30,
     "metadata": {},
     "output_type": "execute_result"
    }
   ],
   "source": [
    "model, params_dict = create_model_gui()\n",
    "params_dict"
   ]
  },
  {
   "cell_type": "code",
   "execution_count": 13,
   "metadata": {},
   "outputs": [
    {
     "name": "stdout",
     "output_type": "stream",
     "text": [
      "Model: \"sequential_1\"\n",
      "_________________________________________________________________\n",
      " Layer (type)                Output Shape              Param #   \n",
      "=================================================================\n",
      " dense (Dense)               (None, 128)               3456      \n",
      "                                                                 \n",
      " dense_1 (Dense)             (None, 64)                8256      \n",
      "                                                                 \n",
      " dense_2 (Dense)             (None, 64)                4160      \n",
      "                                                                 \n",
      " dense_3 (Dense)             (None, 1)                 65        \n",
      "                                                                 \n",
      "=================================================================\n",
      "Total params: 15,937\n",
      "Trainable params: 15,937\n",
      "Non-trainable params: 0\n",
      "_________________________________________________________________\n"
     ]
    }
   ],
   "source": [
    "model.summary()"
   ]
  },
  {
   "cell_type": "code",
   "execution_count": 3,
   "metadata": {},
   "outputs": [],
   "source": [
    "from datetime import date\n",
    "#date time objects for each nba season\n",
    "\n",
    "nba_seasons = {\n",
    "    '2000-2001': {'start': date(2000, 10, 31), 'end': date(2001, 4, 18)},\n",
    "    '2001-2002': {'start': date(2001, 10, 30), 'end': date(2002, 4, 17)},\n",
    "    '2002-2003': {'start': date(2002, 10, 29), 'end': date(2003, 4, 16)},\n",
    "    '2003-2004': {'start': date(2003, 10, 28), 'end': date(4, 4, 14)},\n",
    "    '2004-2005': {'start': date(2004, 11, 2), 'end': date(2005, 4, 20)},\n",
    "    '2005-2006': {'start': date(2005, 11, 1), 'end': date(2006, 4, 19)},\n",
    "    '2006-2007': {'start': date(2006, 10, 31), 'end': date(2007, 4, 18)},\n",
    "    '2007-2008': {'start': date(2007, 10, 30), 'end': date(2008, 4, 16)},\n",
    "    '2008-2009': {'start': date(2008, 10, 28), 'end': date(2009, 4, 15)},\n",
    "    '2009-2010': {'start': date(2009, 10, 27), 'end': date(2010, 4, 14)},\n",
    "    '2010-2011': {'start': date(2010, 10, 26), 'end': date(2011, 4, 13)},\n",
    "    '2011-2012': {'start': date(2011, 12, 25), 'end': date(2012, 4, 26)},\n",
    "    '2012-2013': {'start': date(2012, 10, 30), 'end': date(2013, 4, 17)},\n",
    "    '2013-2014': {'start': date(2013, 10, 29), 'end': date(2014, 4, 16)},\n",
    "    '2014-2015': {'start': date(2014, 10, 28), 'end': date(2015, 4, 15)},\n",
    "    '2015-2016': {'start': date(2015, 10, 27), 'end': date(2016, 4, 13)},\n",
    "    '2016-2017': {'start': date(2016, 10, 25), 'end': date(2017, 4, 12)},\n",
    "    '2017-2018': {'start': date(2017, 10, 17), 'end': date(2018, 4, 11)},\n",
    "    '2018-2019': {'start': date(2018, 10, 16), 'end': date(2019, 4, 10)},\n",
    "    '2019-2020': {'start': date(2019, 10, 22), 'end': date(2020, 9, 28)},  # Adjusted end date\n",
    "    '2020-2021': {'start': date(2020, 12, 22), 'end': date(2021, 7, 22)},  # Adjusted end date\n",
    "    '2021-2022': {'start': date(2021, 10, 19), 'end': date(2022, 4, 10)},\n",
    "    '2022-2023': {'start': date(2022, 10, 18), 'end': date(2023, 4, 9)}\n",
    "}\n"
   ]
  },
  {
   "cell_type": "markdown",
   "metadata": {},
   "source": [
    "Our first step is to create our training and testing data from all the data we downloaded."
   ]
  },
  {
   "cell_type": "code",
   "execution_count": 4,
   "metadata": {},
   "outputs": [
    {
     "name": "stdout",
     "output_type": "stream",
     "text": [
      "5 dates have to be scraped\n",
      "Starting crawl\n",
      "Finished crawl\n",
      "Total count of games in the database: 1574\n",
      "---- Training Data ----\n",
      "      hometeam_fieldGoalsMade  hometeam_fieldGoalsAttempted  \\\n",
      "0                   35.524590                     78.786885   \n",
      "1                   37.642857                     82.875000   \n",
      "2                   38.338983                     81.864407   \n",
      "3                   36.482759                     77.810345   \n",
      "4                   34.983607                     79.229508   \n",
      "...                       ...                           ...   \n",
      "1168                34.844156                     80.909091   \n",
      "1169                33.227848                     78.455696   \n",
      "1170                33.833333                     79.166667   \n",
      "1171                34.233766                     78.792208   \n",
      "1172                35.571429                     83.597403   \n",
      "\n",
      "      hometeam_threePointersMade  hometeam_threePointersAttempted  \\\n",
      "0                       6.098361                        17.016393   \n",
      "1                       6.910714                        17.750000   \n",
      "2                       5.305085                        15.661017   \n",
      "3                       4.465517                        12.586207   \n",
      "4                       4.344262                        13.114754   \n",
      "...                          ...                              ...   \n",
      "1168                    4.038961                        11.207792   \n",
      "1169                    3.962025                        11.481013   \n",
      "1170                    7.102564                        19.564103   \n",
      "1171                    3.428571                        10.545455   \n",
      "1172                    4.870130                        13.441558   \n",
      "\n",
      "      hometeam_freeThrowsMade  hometeam_freeThrowsAttempted  \\\n",
      "0                   19.196721                     25.311475   \n",
      "1                   18.089286                     23.178571   \n",
      "2                   19.033898                     28.305085   \n",
      "3                   17.965517                     23.310345   \n",
      "4                   17.180328                     25.098361   \n",
      "...                       ...                           ...   \n",
      "1168                16.636364                     21.909091   \n",
      "1169                16.962025                     23.101266   \n",
      "1170                19.679487                     26.679487   \n",
      "1171                20.493506                     27.051948   \n",
      "1172                19.298701                     26.922078   \n",
      "\n",
      "      hometeam_reboundsOffensive  hometeam_reboundsDefensive  \\\n",
      "0                      11.327869                   30.426230   \n",
      "1                      11.964286                   30.267857   \n",
      "2                      13.271186                   31.491525   \n",
      "3                      11.620690                   30.362069   \n",
      "4                      12.262295                   31.262295   \n",
      "...                          ...                         ...   \n",
      "1168                   12.402597                   30.597403   \n",
      "1169                   11.430380                   27.531646   \n",
      "1170                   10.897436                   28.794872   \n",
      "1171                   12.584416                   28.870130   \n",
      "1172                   13.545455                   31.766234   \n",
      "\n",
      "      hometeam_assists  hometeam_steals  ...  awayteam_freeThrowsMade  \\\n",
      "0            19.409836         7.360656  ...                17.126984   \n",
      "1            22.125000         8.178571  ...                19.103448   \n",
      "2            22.881356         6.508475  ...                18.836066   \n",
      "3            23.810345         8.551724  ...                17.150000   \n",
      "4            19.049180         6.016393  ...                18.767857   \n",
      "...                ...              ...  ...                      ...   \n",
      "1168         18.766234         7.636364  ...                18.883117   \n",
      "1169         21.974684         8.189873  ...                18.683544   \n",
      "1170         20.846154         9.423077  ...                17.467532   \n",
      "1171         19.948052         7.649351  ...                16.935065   \n",
      "1172         19.792208         7.363636  ...                18.337662   \n",
      "\n",
      "      awayteam_freeThrowsAttempted  awayteam_reboundsOffensive  \\\n",
      "0                        24.936508                   12.222222   \n",
      "1                        25.189655                   11.293103   \n",
      "2                        25.081967                   13.868852   \n",
      "3                        25.083333                   12.383333   \n",
      "4                        24.517857                   12.232143   \n",
      "...                            ...                         ...   \n",
      "1168                     24.766234                   12.311688   \n",
      "1169                     24.405063                   11.063291   \n",
      "1170                     22.948052                    9.792208   \n",
      "1171                     23.142857                   11.467532   \n",
      "1172                     24.506494                   13.545455   \n",
      "\n",
      "      awayteam_reboundsDefensive  awayteam_assists  awayteam_steals  \\\n",
      "0                      31.142857         18.873016         6.063492   \n",
      "1                      30.431034         19.379310         7.310345   \n",
      "2                      30.983607         24.032787         7.098361   \n",
      "3                      31.316667         19.083333         6.033333   \n",
      "4                      31.964286         22.875000         9.785714   \n",
      "...                          ...               ...              ...   \n",
      "1168                   29.805195         21.012987         7.831169   \n",
      "1169                   31.455696         21.265823         6.835443   \n",
      "1170                   29.597403         19.701299         7.779221   \n",
      "1171                   27.753247         21.974026         8.051948   \n",
      "1172                   30.818182         24.337662         7.246753   \n",
      "\n",
      "      awayteam_blocks  awayteam_foulsPersonal  awayteam_points  \\\n",
      "0            6.301587               21.952381        91.555556   \n",
      "1            4.689655               20.913793        96.034483   \n",
      "2            5.754098               21.754098        97.622951   \n",
      "3            6.350000               22.266667        91.666667   \n",
      "4            5.678571               19.535714       101.107143   \n",
      "...               ...                     ...              ...   \n",
      "1168         5.298701               23.454545        91.883117   \n",
      "1169         5.886076               23.468354        92.253165   \n",
      "1170         3.610390               21.155844        88.805195   \n",
      "1171         4.610390               23.389610        87.103896   \n",
      "1172         6.376623               21.376623        98.025974   \n",
      "\n",
      "      winner_is_home_team  \n",
      "0                       1  \n",
      "1                       0  \n",
      "2                       1  \n",
      "3                       1  \n",
      "4                       1  \n",
      "...                   ...  \n",
      "1168                    1  \n",
      "1169                    0  \n",
      "1170                    0  \n",
      "1171                    0  \n",
      "1172                    1  \n",
      "\n",
      "[1173 rows x 27 columns]\n"
     ]
    }
   ],
   "source": [
    "from game_data_ingest import *\n",
    "\n",
    "some_dates = date_range(nba_seasons[params_dict['Season']]['start'], nba_seasons[params_dict['Season']]['end'])\n",
    "put_dates_in_db(some_dates)\n",
    "\n",
    "with sqlite3.connect(\"games.db\") as conn:\n",
    "    c = conn.cursor()\n",
    "    q = f\"SELECT COUNT(*) FROM games;\"\n",
    "    c.execute(q)\n",
    "    print(\"Total count of games in the database:\", c.fetchone()[0])\n",
    "\n",
    "with sqlite3.connect(\"games.db\") as conn:\n",
    "    df = generate_training_data_for_season(\n",
    "        conn, nba_seasons[params_dict['Season']]['start'], nba_seasons[params_dict['Season']]['end']\n",
    "    )\n",
    "    print(\"---- Training Data ----\")\n",
    "    print(df)"
   ]
  },
  {
   "cell_type": "code",
   "execution_count": 7,
   "metadata": {},
   "outputs": [
    {
     "data": {
      "text/html": [
       "<div>\n",
       "<style scoped>\n",
       "    .dataframe tbody tr th:only-of-type {\n",
       "        vertical-align: middle;\n",
       "    }\n",
       "\n",
       "    .dataframe tbody tr th {\n",
       "        vertical-align: top;\n",
       "    }\n",
       "\n",
       "    .dataframe thead th {\n",
       "        text-align: right;\n",
       "    }\n",
       "</style>\n",
       "<table border=\"1\" class=\"dataframe\">\n",
       "  <thead>\n",
       "    <tr style=\"text-align: right;\">\n",
       "      <th></th>\n",
       "      <th>hometeam_fieldGoalsMade</th>\n",
       "      <th>hometeam_fieldGoalsAttempted</th>\n",
       "      <th>hometeam_threePointersMade</th>\n",
       "      <th>hometeam_threePointersAttempted</th>\n",
       "      <th>hometeam_freeThrowsMade</th>\n",
       "      <th>hometeam_freeThrowsAttempted</th>\n",
       "      <th>hometeam_reboundsOffensive</th>\n",
       "      <th>hometeam_reboundsDefensive</th>\n",
       "      <th>hometeam_assists</th>\n",
       "      <th>hometeam_steals</th>\n",
       "      <th>...</th>\n",
       "      <th>awayteam_freeThrowsMade</th>\n",
       "      <th>awayteam_freeThrowsAttempted</th>\n",
       "      <th>awayteam_reboundsOffensive</th>\n",
       "      <th>awayteam_reboundsDefensive</th>\n",
       "      <th>awayteam_assists</th>\n",
       "      <th>awayteam_steals</th>\n",
       "      <th>awayteam_blocks</th>\n",
       "      <th>awayteam_foulsPersonal</th>\n",
       "      <th>awayteam_points</th>\n",
       "      <th>winner_is_home_team</th>\n",
       "    </tr>\n",
       "  </thead>\n",
       "  <tbody>\n",
       "    <tr>\n",
       "      <th>0</th>\n",
       "      <td>35.524590</td>\n",
       "      <td>78.786885</td>\n",
       "      <td>6.098361</td>\n",
       "      <td>17.016393</td>\n",
       "      <td>19.196721</td>\n",
       "      <td>25.311475</td>\n",
       "      <td>11.327869</td>\n",
       "      <td>30.426230</td>\n",
       "      <td>19.409836</td>\n",
       "      <td>7.360656</td>\n",
       "      <td>...</td>\n",
       "      <td>17.126984</td>\n",
       "      <td>24.936508</td>\n",
       "      <td>12.222222</td>\n",
       "      <td>31.142857</td>\n",
       "      <td>18.873016</td>\n",
       "      <td>6.063492</td>\n",
       "      <td>6.301587</td>\n",
       "      <td>21.952381</td>\n",
       "      <td>91.555556</td>\n",
       "      <td>1</td>\n",
       "    </tr>\n",
       "    <tr>\n",
       "      <th>1</th>\n",
       "      <td>37.642857</td>\n",
       "      <td>82.875000</td>\n",
       "      <td>6.910714</td>\n",
       "      <td>17.750000</td>\n",
       "      <td>18.089286</td>\n",
       "      <td>23.178571</td>\n",
       "      <td>11.964286</td>\n",
       "      <td>30.267857</td>\n",
       "      <td>22.125000</td>\n",
       "      <td>8.178571</td>\n",
       "      <td>...</td>\n",
       "      <td>19.103448</td>\n",
       "      <td>25.189655</td>\n",
       "      <td>11.293103</td>\n",
       "      <td>30.431034</td>\n",
       "      <td>19.379310</td>\n",
       "      <td>7.310345</td>\n",
       "      <td>4.689655</td>\n",
       "      <td>20.913793</td>\n",
       "      <td>96.034483</td>\n",
       "      <td>0</td>\n",
       "    </tr>\n",
       "    <tr>\n",
       "      <th>2</th>\n",
       "      <td>38.338983</td>\n",
       "      <td>81.864407</td>\n",
       "      <td>5.305085</td>\n",
       "      <td>15.661017</td>\n",
       "      <td>19.033898</td>\n",
       "      <td>28.305085</td>\n",
       "      <td>13.271186</td>\n",
       "      <td>31.491525</td>\n",
       "      <td>22.881356</td>\n",
       "      <td>6.508475</td>\n",
       "      <td>...</td>\n",
       "      <td>18.836066</td>\n",
       "      <td>25.081967</td>\n",
       "      <td>13.868852</td>\n",
       "      <td>30.983607</td>\n",
       "      <td>24.032787</td>\n",
       "      <td>7.098361</td>\n",
       "      <td>5.754098</td>\n",
       "      <td>21.754098</td>\n",
       "      <td>97.622951</td>\n",
       "      <td>1</td>\n",
       "    </tr>\n",
       "    <tr>\n",
       "      <th>3</th>\n",
       "      <td>36.482759</td>\n",
       "      <td>77.810345</td>\n",
       "      <td>4.465517</td>\n",
       "      <td>12.586207</td>\n",
       "      <td>17.965517</td>\n",
       "      <td>23.310345</td>\n",
       "      <td>11.620690</td>\n",
       "      <td>30.362069</td>\n",
       "      <td>23.810345</td>\n",
       "      <td>8.551724</td>\n",
       "      <td>...</td>\n",
       "      <td>17.150000</td>\n",
       "      <td>25.083333</td>\n",
       "      <td>12.383333</td>\n",
       "      <td>31.316667</td>\n",
       "      <td>19.083333</td>\n",
       "      <td>6.033333</td>\n",
       "      <td>6.350000</td>\n",
       "      <td>22.266667</td>\n",
       "      <td>91.666667</td>\n",
       "      <td>1</td>\n",
       "    </tr>\n",
       "    <tr>\n",
       "      <th>4</th>\n",
       "      <td>34.983607</td>\n",
       "      <td>79.229508</td>\n",
       "      <td>4.344262</td>\n",
       "      <td>13.114754</td>\n",
       "      <td>17.180328</td>\n",
       "      <td>25.098361</td>\n",
       "      <td>12.262295</td>\n",
       "      <td>31.262295</td>\n",
       "      <td>19.049180</td>\n",
       "      <td>6.016393</td>\n",
       "      <td>...</td>\n",
       "      <td>18.767857</td>\n",
       "      <td>24.517857</td>\n",
       "      <td>12.232143</td>\n",
       "      <td>31.964286</td>\n",
       "      <td>22.875000</td>\n",
       "      <td>9.785714</td>\n",
       "      <td>5.678571</td>\n",
       "      <td>19.535714</td>\n",
       "      <td>101.107143</td>\n",
       "      <td>1</td>\n",
       "    </tr>\n",
       "  </tbody>\n",
       "</table>\n",
       "<p>5 rows × 27 columns</p>\n",
       "</div>"
      ],
      "text/plain": [
       "   hometeam_fieldGoalsMade  hometeam_fieldGoalsAttempted  \\\n",
       "0                35.524590                     78.786885   \n",
       "1                37.642857                     82.875000   \n",
       "2                38.338983                     81.864407   \n",
       "3                36.482759                     77.810345   \n",
       "4                34.983607                     79.229508   \n",
       "\n",
       "   hometeam_threePointersMade  hometeam_threePointersAttempted  \\\n",
       "0                    6.098361                        17.016393   \n",
       "1                    6.910714                        17.750000   \n",
       "2                    5.305085                        15.661017   \n",
       "3                    4.465517                        12.586207   \n",
       "4                    4.344262                        13.114754   \n",
       "\n",
       "   hometeam_freeThrowsMade  hometeam_freeThrowsAttempted  \\\n",
       "0                19.196721                     25.311475   \n",
       "1                18.089286                     23.178571   \n",
       "2                19.033898                     28.305085   \n",
       "3                17.965517                     23.310345   \n",
       "4                17.180328                     25.098361   \n",
       "\n",
       "   hometeam_reboundsOffensive  hometeam_reboundsDefensive  hometeam_assists  \\\n",
       "0                   11.327869                   30.426230         19.409836   \n",
       "1                   11.964286                   30.267857         22.125000   \n",
       "2                   13.271186                   31.491525         22.881356   \n",
       "3                   11.620690                   30.362069         23.810345   \n",
       "4                   12.262295                   31.262295         19.049180   \n",
       "\n",
       "   hometeam_steals  ...  awayteam_freeThrowsMade  \\\n",
       "0         7.360656  ...                17.126984   \n",
       "1         8.178571  ...                19.103448   \n",
       "2         6.508475  ...                18.836066   \n",
       "3         8.551724  ...                17.150000   \n",
       "4         6.016393  ...                18.767857   \n",
       "\n",
       "   awayteam_freeThrowsAttempted  awayteam_reboundsOffensive  \\\n",
       "0                     24.936508                   12.222222   \n",
       "1                     25.189655                   11.293103   \n",
       "2                     25.081967                   13.868852   \n",
       "3                     25.083333                   12.383333   \n",
       "4                     24.517857                   12.232143   \n",
       "\n",
       "   awayteam_reboundsDefensive  awayteam_assists  awayteam_steals  \\\n",
       "0                   31.142857         18.873016         6.063492   \n",
       "1                   30.431034         19.379310         7.310345   \n",
       "2                   30.983607         24.032787         7.098361   \n",
       "3                   31.316667         19.083333         6.033333   \n",
       "4                   31.964286         22.875000         9.785714   \n",
       "\n",
       "   awayteam_blocks  awayteam_foulsPersonal  awayteam_points  \\\n",
       "0         6.301587               21.952381        91.555556   \n",
       "1         4.689655               20.913793        96.034483   \n",
       "2         5.754098               21.754098        97.622951   \n",
       "3         6.350000               22.266667        91.666667   \n",
       "4         5.678571               19.535714       101.107143   \n",
       "\n",
       "   winner_is_home_team  \n",
       "0                    1  \n",
       "1                    0  \n",
       "2                    1  \n",
       "3                    1  \n",
       "4                    1  \n",
       "\n",
       "[5 rows x 27 columns]"
      ]
     },
     "execution_count": 7,
     "metadata": {},
     "output_type": "execute_result"
    }
   ],
   "source": [
    "df.head()"
   ]
  },
  {
   "cell_type": "markdown",
   "metadata": {},
   "source": [
    "We have 27 - 1 = 26 input parameters. The remaining value is what we are trying to predict: whether the home team won."
   ]
  },
  {
   "cell_type": "code",
   "execution_count": 9,
   "metadata": {},
   "outputs": [],
   "source": [
    "#make arrays for X and Y data\n",
    "X = df.drop('winner_is_home_team', axis=1).values\n",
    "y = df['winner_is_home_team'].values\n",
    "train_ratio = 0.75\n",
    "validation_ratio = 0.15\n",
    "test_ratio = 0.10\n",
    "\n",
    "# train is now 75% of the entire data set\n",
    "X_train, X_test, y_train, y_test = train_test_split(X, y, test_size=1 - train_ratio, shuffle=True)\n",
    "\n",
    "# test is now 10% of the initial data set\n",
    "# validation is now 15% of the initial data set\n",
    "X_val, X_test, y_val, y_test = train_test_split(X_test, y_test, test_size=test_ratio/(test_ratio + validation_ratio), shuffle=True) "
   ]
  },
  {
   "cell_type": "markdown",
   "metadata": {},
   "source": [
    "Now we have our training, test, and validation data!\n",
    "\n",
    "# Creating The Model"
   ]
  },
  {
   "cell_type": "markdown",
   "metadata": {},
   "source": [
    "Before we create our model, we test the predictive performance of a simple Logistic Regression model first as a baseline comparison. It should be around 50%, since it is essentially flipping a coin on which team wins the game."
   ]
  },
  {
   "cell_type": "code",
   "execution_count": 11,
   "metadata": {},
   "outputs": [
    {
     "name": "stdout",
     "output_type": "stream",
     "text": [
      "Epoch 1/20\n",
      "28/28 [==============================] - 1s 17ms/step - loss: 11.8708 - accuracy: 0.3959 - val_loss: 1.4308 - val_accuracy: 0.5795\n",
      "Epoch 2/20\n",
      "28/28 [==============================] - 0s 5ms/step - loss: 2.0816 - accuracy: 0.5461 - val_loss: 1.6270 - val_accuracy: 0.4148\n",
      "Epoch 3/20\n",
      "28/28 [==============================] - 0s 2ms/step - loss: 1.6799 - accuracy: 0.5006 - val_loss: 1.4182 - val_accuracy: 0.5227\n",
      "Epoch 4/20\n",
      "28/28 [==============================] - 0s 3ms/step - loss: 1.6574 - accuracy: 0.5051 - val_loss: 1.4231 - val_accuracy: 0.5057\n",
      "Epoch 5/20\n",
      "28/28 [==============================] - 0s 2ms/step - loss: 1.6350 - accuracy: 0.5097 - val_loss: 1.4753 - val_accuracy: 0.4602\n",
      "Epoch 6/20\n",
      "28/28 [==============================] - 0s 2ms/step - loss: 1.6533 - accuracy: 0.5028 - val_loss: 1.4417 - val_accuracy: 0.4773\n",
      "Epoch 7/20\n",
      "28/28 [==============================] - 0s 2ms/step - loss: 1.6181 - accuracy: 0.5063 - val_loss: 1.3580 - val_accuracy: 0.5398\n",
      "Epoch 8/20\n",
      "28/28 [==============================] - 0s 3ms/step - loss: 1.6048 - accuracy: 0.4937 - val_loss: 1.3415 - val_accuracy: 0.5398\n",
      "Epoch 9/20\n",
      "28/28 [==============================] - 0s 2ms/step - loss: 1.5948 - accuracy: 0.5028 - val_loss: 1.3461 - val_accuracy: 0.5284\n",
      "Epoch 10/20\n",
      "28/28 [==============================] - 0s 2ms/step - loss: 1.6209 - accuracy: 0.5142 - val_loss: 1.3269 - val_accuracy: 0.5625\n",
      "Epoch 11/20\n",
      "28/28 [==============================] - 0s 2ms/step - loss: 1.5775 - accuracy: 0.5108 - val_loss: 1.4875 - val_accuracy: 0.4545\n",
      "Epoch 12/20\n",
      "28/28 [==============================] - 0s 2ms/step - loss: 1.5662 - accuracy: 0.5040 - val_loss: 1.4420 - val_accuracy: 0.4489\n",
      "Epoch 13/20\n",
      "28/28 [==============================] - 0s 3ms/step - loss: 1.5110 - accuracy: 0.5245 - val_loss: 1.2773 - val_accuracy: 0.5455\n",
      "Epoch 14/20\n",
      "28/28 [==============================] - 0s 3ms/step - loss: 1.5158 - accuracy: 0.5063 - val_loss: 1.2849 - val_accuracy: 0.5227\n",
      "Epoch 15/20\n",
      "28/28 [==============================] - 0s 3ms/step - loss: 1.4883 - accuracy: 0.5074 - val_loss: 1.2412 - val_accuracy: 0.5398\n",
      "Epoch 16/20\n",
      "28/28 [==============================] - 0s 3ms/step - loss: 1.4917 - accuracy: 0.5108 - val_loss: 1.2421 - val_accuracy: 0.5284\n",
      "Epoch 17/20\n",
      "28/28 [==============================] - 0s 2ms/step - loss: 1.4671 - accuracy: 0.5165 - val_loss: 1.2445 - val_accuracy: 0.5227\n",
      "Epoch 18/20\n",
      "28/28 [==============================] - 0s 2ms/step - loss: 1.4478 - accuracy: 0.5085 - val_loss: 1.2279 - val_accuracy: 0.5227\n",
      "Epoch 19/20\n",
      "28/28 [==============================] - 0s 2ms/step - loss: 1.4504 - accuracy: 0.5245 - val_loss: 1.2679 - val_accuracy: 0.6080\n",
      "Epoch 20/20\n",
      "28/28 [==============================] - 0s 2ms/step - loss: 1.4641 - accuracy: 0.5210 - val_loss: 1.2149 - val_accuracy: 0.5000\n"
     ]
    }
   ],
   "source": [
    "model_logistic_regression = models.Sequential([\n",
    "    # Logistic Regression\n",
    "    layers.InputLayer(input_shape=(26,)),\n",
    "    layers.Dense(units=2, activation='sigmoid')\n",
    "])\n",
    "\n",
    "model_logistic_regression.compile(optimizer='adam', # optimizer type\n",
    "              loss=tf.keras.losses.sparse_categorical_crossentropy, # loss function\n",
    "              metrics=['accuracy'])\n",
    "history_logistic_regression = model_logistic_regression.fit(x=X_train,y=y_train,\n",
    "                     epochs=20,\n",
    "                     validation_data=(X_val,y_val))"
   ]
  },
  {
   "cell_type": "markdown",
   "metadata": {},
   "source": [
    "Looks like we hover around 50% as we predicted."
   ]
  },
  {
   "cell_type": "markdown",
   "metadata": {},
   "source": [
    "Now we try our own Neural Network model."
   ]
  },
  {
   "cell_type": "code",
   "execution_count": 14,
   "metadata": {},
   "outputs": [
    {
     "name": "stdout",
     "output_type": "stream",
     "text": [
      "Model: \"sequential_3\"\n",
      "_________________________________________________________________\n",
      " Layer (type)                Output Shape              Param #   \n",
      "=================================================================\n",
      " dense_5 (Dense)             (None, 128)               3456      \n",
      "                                                                 \n",
      " dense_6 (Dense)             (None, 64)                8256      \n",
      "                                                                 \n",
      " dense_7 (Dense)             (None, 64)                4160      \n",
      "                                                                 \n",
      " dense_8 (Dense)             (None, 1)                 65        \n",
      "                                                                 \n",
      "=================================================================\n",
      "Total params: 15,937\n",
      "Trainable params: 15,937\n",
      "Non-trainable params: 0\n",
      "_________________________________________________________________\n"
     ]
    }
   ],
   "source": [
    "model1 = models.Sequential([\n",
    "    # NN\n",
    "    layers.InputLayer(input_shape=(26,)),\n",
    "    layers.Dense(units=128, use_bias=True), # Linear layer\n",
    "    layers.Dense(units=64, use_bias=True, activation='relu'), # Non-Linear layer\n",
    "    #layers.Flatten(),\n",
    "    layers.Dense(units=64, activation='relu'), # An inner product of previous parameters with weights\n",
    "    layers.Dense(units=1, activation='sigmoid')\n",
    "    \n",
    "])\n",
    "\n",
    "model1.summary()"
   ]
  },
  {
   "cell_type": "code",
   "execution_count": 18,
   "metadata": {},
   "outputs": [
    {
     "name": "stdout",
     "output_type": "stream",
     "text": [
      "Epoch 1/20\n",
      "28/28 [==============================] - 1s 14ms/step - loss: 0.8786 - accuracy: 0.5688 - val_loss: 0.7452 - val_accuracy: 0.3977\n",
      "Epoch 2/20\n",
      "28/28 [==============================] - 0s 4ms/step - loss: 0.7008 - accuracy: 0.5643 - val_loss: 0.6276 - val_accuracy: 0.6477\n",
      "Epoch 3/20\n",
      "28/28 [==============================] - 0s 6ms/step - loss: 0.6563 - accuracy: 0.6303 - val_loss: 0.6279 - val_accuracy: 0.6420\n",
      "Epoch 4/20\n",
      "28/28 [==============================] - 0s 4ms/step - loss: 0.6786 - accuracy: 0.5768 - val_loss: 0.7177 - val_accuracy: 0.4602\n",
      "Epoch 5/20\n",
      "28/28 [==============================] - 0s 4ms/step - loss: 0.6563 - accuracy: 0.6007 - val_loss: 0.6256 - val_accuracy: 0.6591\n",
      "Epoch 6/20\n",
      "28/28 [==============================] - 0s 4ms/step - loss: 0.6498 - accuracy: 0.6052 - val_loss: 0.6436 - val_accuracy: 0.6420\n",
      "Epoch 7/20\n",
      "28/28 [==============================] - 0s 4ms/step - loss: 0.6846 - accuracy: 0.5848 - val_loss: 0.6126 - val_accuracy: 0.6705\n",
      "Epoch 8/20\n",
      "28/28 [==============================] - 0s 4ms/step - loss: 0.6788 - accuracy: 0.5825 - val_loss: 0.6568 - val_accuracy: 0.6420\n",
      "Epoch 9/20\n",
      "28/28 [==============================] - 0s 4ms/step - loss: 0.6649 - accuracy: 0.5882 - val_loss: 0.6423 - val_accuracy: 0.6420\n",
      "Epoch 10/20\n",
      "28/28 [==============================] - 0s 3ms/step - loss: 0.6569 - accuracy: 0.6177 - val_loss: 0.6066 - val_accuracy: 0.6648\n",
      "Epoch 11/20\n",
      "28/28 [==============================] - 0s 3ms/step - loss: 0.6373 - accuracy: 0.6268 - val_loss: 0.6061 - val_accuracy: 0.6761\n",
      "Epoch 12/20\n",
      "28/28 [==============================] - 0s 3ms/step - loss: 0.7116 - accuracy: 0.5870 - val_loss: 0.7554 - val_accuracy: 0.3920\n",
      "Epoch 13/20\n",
      "28/28 [==============================] - 0s 4ms/step - loss: 0.6710 - accuracy: 0.5950 - val_loss: 0.6404 - val_accuracy: 0.6420\n",
      "Epoch 14/20\n",
      "28/28 [==============================] - 0s 4ms/step - loss: 0.7190 - accuracy: 0.5711 - val_loss: 0.6585 - val_accuracy: 0.6307\n",
      "Epoch 15/20\n",
      "28/28 [==============================] - 0s 4ms/step - loss: 0.6725 - accuracy: 0.5859 - val_loss: 0.6351 - val_accuracy: 0.6648\n",
      "Epoch 16/20\n",
      "28/28 [==============================] - 0s 5ms/step - loss: 0.6716 - accuracy: 0.6109 - val_loss: 0.6224 - val_accuracy: 0.6420\n",
      "Epoch 17/20\n",
      "28/28 [==============================] - 0s 5ms/step - loss: 0.6405 - accuracy: 0.6405 - val_loss: 0.6208 - val_accuracy: 0.6420\n",
      "Epoch 18/20\n",
      "28/28 [==============================] - 0s 4ms/step - loss: 0.6943 - accuracy: 0.5813 - val_loss: 0.6369 - val_accuracy: 0.6420\n",
      "Epoch 19/20\n",
      "28/28 [==============================] - 0s 4ms/step - loss: 0.6783 - accuracy: 0.6177 - val_loss: 0.6166 - val_accuracy: 0.6477\n",
      "Epoch 20/20\n",
      "28/28 [==============================] - 0s 4ms/step - loss: 0.6492 - accuracy: 0.6098 - val_loss: 0.6193 - val_accuracy: 0.6818\n"
     ]
    }
   ],
   "source": [
    "model1.compile(optimizer='adam', # optimizer type\n",
    "              loss=tf.keras.losses.binary_crossentropy, # loss function\n",
    "              metrics=['accuracy'])\n",
    "\n",
    "stop_here_please = EarlyStopping(patience=3)\n",
    "\n",
    "history_1 = model1.fit(x=X_train,y=y_train,\n",
    "                     epochs=20,\n",
    "                     validation_data=(X_val,y_val),\n",
    "                     )#callbacks=[stop_here_please]"
   ]
  },
  {
   "cell_type": "code",
   "execution_count": 19,
   "metadata": {},
   "outputs": [
    {
     "name": "stdout",
     "output_type": "stream",
     "text": [
      "4/4 [==============================] - 0s 2ms/step - loss: 0.6318 - accuracy: 0.6017\n"
     ]
    },
    {
     "data": {
      "text/plain": [
       "[0.63176429271698, 0.6016949415206909]"
      ]
     },
     "execution_count": 19,
     "metadata": {},
     "output_type": "execute_result"
    }
   ],
   "source": [
    "model1.evaluate(x=X_test,y=y_test)"
   ]
  },
  {
   "cell_type": "code",
   "execution_count": 106,
   "metadata": {},
   "outputs": [
    {
     "name": "stdout",
     "output_type": "stream",
     "text": [
      "Model: \"sequential_9\"\n",
      "_________________________________________________________________\n",
      " Layer (type)                Output Shape              Param #   \n",
      "=================================================================\n",
      " dense_18 (Dense)            (None, 128)               3456      \n",
      "                                                                 \n",
      " dense_19 (Dense)            (None, 64)                8256      \n",
      "                                                                 \n",
      " dense_20 (Dense)            (None, 32)                2080      \n",
      "                                                                 \n",
      " dense_21 (Dense)            (None, 1)                 33        \n",
      "                                                                 \n",
      "=================================================================\n",
      "Total params: 13,825\n",
      "Trainable params: 13,825\n",
      "Non-trainable params: 0\n",
      "_________________________________________________________________\n"
     ]
    }
   ],
   "source": [
    "model.summary() # 3 Hidden Layers, Relu, Linear, Relu"
   ]
  },
  {
   "cell_type": "code",
   "execution_count": 77,
   "metadata": {},
   "outputs": [
    {
     "name": "stdout",
     "output_type": "stream",
     "text": [
      "Epoch 1/30\n",
      "28/28 [==============================] - 1s 13ms/step - loss: 0.5862 - accuracy: 0.6849 - val_loss: 0.5676 - val_accuracy: 0.7159\n",
      "Epoch 2/30\n",
      "28/28 [==============================] - 0s 3ms/step - loss: 0.5739 - accuracy: 0.6860 - val_loss: 0.5816 - val_accuracy: 0.7216\n",
      "Epoch 3/30\n",
      "28/28 [==============================] - 0s 3ms/step - loss: 0.5632 - accuracy: 0.7076 - val_loss: 0.5815 - val_accuracy: 0.6932\n",
      "Epoch 4/30\n",
      "28/28 [==============================] - 0s 3ms/step - loss: 0.5648 - accuracy: 0.6962 - val_loss: 0.5811 - val_accuracy: 0.7102\n",
      "Epoch 5/30\n",
      "28/28 [==============================] - 0s 3ms/step - loss: 0.5827 - accuracy: 0.6724 - val_loss: 0.5725 - val_accuracy: 0.7500\n",
      "Epoch 6/30\n",
      "28/28 [==============================] - 0s 3ms/step - loss: 0.5626 - accuracy: 0.6962 - val_loss: 0.5709 - val_accuracy: 0.7273\n",
      "Epoch 7/30\n",
      "28/28 [==============================] - 0s 3ms/step - loss: 0.5724 - accuracy: 0.6780 - val_loss: 0.5633 - val_accuracy: 0.7159\n",
      "Epoch 8/30\n",
      "28/28 [==============================] - 0s 3ms/step - loss: 0.5792 - accuracy: 0.6837 - val_loss: 0.6138 - val_accuracy: 0.6932\n",
      "Epoch 9/30\n",
      "28/28 [==============================] - 0s 3ms/step - loss: 0.5795 - accuracy: 0.6849 - val_loss: 0.5914 - val_accuracy: 0.6989\n",
      "Epoch 10/30\n",
      "28/28 [==============================] - 0s 3ms/step - loss: 0.5624 - accuracy: 0.7031 - val_loss: 0.5719 - val_accuracy: 0.7500\n",
      "Epoch 11/30\n",
      "28/28 [==============================] - 0s 3ms/step - loss: 0.5600 - accuracy: 0.7008 - val_loss: 0.5801 - val_accuracy: 0.7159\n",
      "Epoch 12/30\n",
      "28/28 [==============================] - 0s 3ms/step - loss: 0.5552 - accuracy: 0.7008 - val_loss: 0.5844 - val_accuracy: 0.7102\n",
      "Epoch 13/30\n",
      "28/28 [==============================] - 0s 3ms/step - loss: 0.5742 - accuracy: 0.6940 - val_loss: 0.5792 - val_accuracy: 0.7159\n",
      "Epoch 14/30\n",
      "28/28 [==============================] - 0s 3ms/step - loss: 0.5689 - accuracy: 0.6906 - val_loss: 0.5755 - val_accuracy: 0.6989\n",
      "Epoch 15/30\n",
      "28/28 [==============================] - 0s 3ms/step - loss: 0.5652 - accuracy: 0.6917 - val_loss: 0.5855 - val_accuracy: 0.6818\n",
      "Epoch 16/30\n",
      "28/28 [==============================] - 0s 3ms/step - loss: 0.5680 - accuracy: 0.6974 - val_loss: 0.5762 - val_accuracy: 0.6932\n",
      "Epoch 17/30\n",
      "28/28 [==============================] - 0s 3ms/step - loss: 0.5849 - accuracy: 0.6667 - val_loss: 0.5826 - val_accuracy: 0.6932\n",
      "Epoch 18/30\n",
      "28/28 [==============================] - 0s 3ms/step - loss: 0.5703 - accuracy: 0.6951 - val_loss: 0.5726 - val_accuracy: 0.7045\n",
      "Epoch 19/30\n",
      "28/28 [==============================] - 0s 3ms/step - loss: 0.5637 - accuracy: 0.6928 - val_loss: 0.5912 - val_accuracy: 0.7045\n",
      "Epoch 20/30\n",
      "28/28 [==============================] - 0s 3ms/step - loss: 0.5744 - accuracy: 0.6951 - val_loss: 0.6108 - val_accuracy: 0.7216\n",
      "Epoch 21/30\n",
      "28/28 [==============================] - 0s 3ms/step - loss: 0.5774 - accuracy: 0.6917 - val_loss: 0.5823 - val_accuracy: 0.7045\n",
      "Epoch 22/30\n",
      "28/28 [==============================] - 0s 3ms/step - loss: 0.5817 - accuracy: 0.6962 - val_loss: 0.6155 - val_accuracy: 0.6648\n",
      "Epoch 23/30\n",
      "28/28 [==============================] - 0s 3ms/step - loss: 0.5984 - accuracy: 0.6826 - val_loss: 0.5696 - val_accuracy: 0.7273\n",
      "Epoch 24/30\n",
      "28/28 [==============================] - 0s 3ms/step - loss: 0.6213 - accuracy: 0.6689 - val_loss: 0.6165 - val_accuracy: 0.7500\n",
      "Epoch 25/30\n",
      "28/28 [==============================] - 0s 3ms/step - loss: 0.6118 - accuracy: 0.6746 - val_loss: 0.6281 - val_accuracy: 0.6420\n",
      "Epoch 26/30\n",
      "28/28 [==============================] - 0s 3ms/step - loss: 0.6003 - accuracy: 0.6507 - val_loss: 0.5530 - val_accuracy: 0.7273\n",
      "Epoch 27/30\n",
      "28/28 [==============================] - 0s 4ms/step - loss: 0.5758 - accuracy: 0.6997 - val_loss: 0.5617 - val_accuracy: 0.7045\n",
      "Epoch 28/30\n",
      "28/28 [==============================] - 0s 3ms/step - loss: 0.5802 - accuracy: 0.6894 - val_loss: 0.5958 - val_accuracy: 0.6989\n",
      "Epoch 29/30\n",
      "28/28 [==============================] - 0s 3ms/step - loss: 0.5652 - accuracy: 0.6997 - val_loss: 0.5587 - val_accuracy: 0.7443\n",
      "Epoch 30/30\n",
      "28/28 [==============================] - 0s 3ms/step - loss: 0.5634 - accuracy: 0.7053 - val_loss: 0.5746 - val_accuracy: 0.7159\n"
     ]
    }
   ],
   "source": [
    "model.compile(optimizer='adam', # optimizer type\n",
    "              loss=tf.keras.losses.binary_crossentropy, # loss function\n",
    "              metrics=['accuracy'])\n",
    "\n",
    "stop_here_please = EarlyStopping(patience=3)\n",
    "\n",
    "history_1 = model.fit(x=X_train,y=y_train,\n",
    "                     epochs=30,\n",
    "                     validation_data=(X_val,y_val),\n",
    "                     )#callbacks=[stop_here_please]"
   ]
  },
  {
   "cell_type": "code",
   "execution_count": 78,
   "metadata": {},
   "outputs": [
    {
     "name": "stdout",
     "output_type": "stream",
     "text": [
      "4/4 [==============================] - 0s 5ms/step - loss: 0.6234 - accuracy: 0.6610\n"
     ]
    },
    {
     "data": {
      "text/plain": [
       "[0.6234367489814758, 0.6610169410705566]"
      ]
     },
     "execution_count": 78,
     "metadata": {},
     "output_type": "execute_result"
    }
   ],
   "source": [
    "model.evaluate(x=X_test,y=y_test)"
   ]
  },
  {
   "cell_type": "markdown",
   "metadata": {},
   "source": [
    "# Predicting the Playoffs"
   ]
  },
  {
   "cell_type": "markdown",
   "metadata": {},
   "source": [
    "Now that we have the model and the season, we now can test the model on each matchup in the postseason and see how it performs!"
   ]
  },
  {
   "cell_type": "code",
   "execution_count": 79,
   "metadata": {},
   "outputs": [],
   "source": [
    "def get_matchup_df(conn, team1, team2):\n",
    "    '''\n",
    "    Creates concatenated dataframe of the regular season averaged data of two specified teams.\n",
    "    Make sure to write team names in lowercase! \n",
    "    '''\n",
    "    df1 = get_average_stats_over_period(conn, team1, nba_seasons[params_dict['Season']]['start'], nba_seasons[params_dict['Season']]['end'])\n",
    "    df2 = get_average_stats_over_period(conn, team2, nba_seasons[params_dict['Season']]['start'], nba_seasons[params_dict['Season']]['end'])\n",
    "    df1 = df1.drop('gamesCount', axis = 1)\n",
    "    df2 = df2.drop('gamesCount', axis = 1)\n",
    "    df1 = df1.add_prefix(\"hometeam_\")\n",
    "    df2 = df2.add_prefix(\"awayteam_\")\n",
    "    resultdf = pd.concat([df1,df2], axis = 1)\n",
    "    return resultdf\n"
   ]
  },
  {
   "cell_type": "markdown",
   "metadata": {},
   "source": [
    "## Function To Predict Playoffs\n",
    "\n",
    "We now need a function to evaluate a full playoff bracket!"
   ]
  },
  {
   "cell_type": "code",
   "execution_count": null,
   "metadata": {},
   "outputs": [],
   "source": []
  },
  {
   "cell_type": "markdown",
   "metadata": {},
   "source": [
    "# 2000-2001 Playoff Prediction"
   ]
  },
  {
   "cell_type": "code",
   "execution_count": 80,
   "metadata": {},
   "outputs": [],
   "source": [
    "lakers_vs_blazers = get_matchup_df(conn, \"lakers\", \"blazers\")\n",
    "mavs_vs_jazz = get_matchup_df(conn, \"mavericks\", \"jazz\")\n",
    "kings_vs_suns = get_matchup_df(conn, \"kings\", \"suns\")\n",
    "spurs_vs_wolves = get_matchup_df(conn, \"spurs\", \"timberwolves\")\n",
    "hornets_vs_heat = get_matchup_df(conn, \"hornets\", \"heat\")\n",
    "bucks_vs_magic = get_matchup_df(conn, \"bucks\", \"magic\")\n",
    "sixers_vs_pacers = get_matchup_df(conn, \"sixers\", \"pacers\")\n",
    "raptors_vs_knicks = get_matchup_df(conn, \"raptors\", \"knicks\")\n",
    "\n"
   ]
  },
  {
   "cell_type": "markdown",
   "metadata": {},
   "source": [
    "# Playoff Simulation\n",
    "\n",
    "## Round 1:"
   ]
  },
  {
   "cell_type": "code",
   "execution_count": 81,
   "metadata": {},
   "outputs": [
    {
     "name": "stdout",
     "output_type": "stream",
     "text": [
      "1/1 [==============================] - 0s 51ms/step\n"
     ]
    },
    {
     "data": {
      "text/plain": [
       "array([[0.6373418]], dtype=float32)"
      ]
     },
     "execution_count": 81,
     "metadata": {},
     "output_type": "execute_result"
    }
   ],
   "source": [
    "model1.predict(lakers_vs_blazers)"
   ]
  },
  {
   "cell_type": "code",
   "execution_count": 82,
   "metadata": {},
   "outputs": [
    {
     "name": "stdout",
     "output_type": "stream",
     "text": [
      "1/1 [==============================] - 0s 70ms/step\n"
     ]
    },
    {
     "data": {
      "text/plain": [
       "array([[0.66255695]], dtype=float32)"
      ]
     },
     "execution_count": 82,
     "metadata": {},
     "output_type": "execute_result"
    }
   ],
   "source": [
    "model.predict(lakers_vs_blazers) #Actual result: Lakers W 3-0"
   ]
  },
  {
   "cell_type": "code",
   "execution_count": 83,
   "metadata": {},
   "outputs": [
    {
     "name": "stdout",
     "output_type": "stream",
     "text": [
      "1/1 [==============================] - 0s 22ms/step\n"
     ]
    },
    {
     "data": {
      "text/plain": [
       "array([[0.6447607]], dtype=float32)"
      ]
     },
     "execution_count": 83,
     "metadata": {},
     "output_type": "execute_result"
    }
   ],
   "source": [
    "model.predict(mavs_vs_jazz) # Actual result: Mavs W 3-2"
   ]
  },
  {
   "cell_type": "code",
   "execution_count": 84,
   "metadata": {},
   "outputs": [
    {
     "name": "stdout",
     "output_type": "stream",
     "text": [
      "1/1 [==============================] - 0s 21ms/step\n"
     ]
    },
    {
     "data": {
      "text/plain": [
       "array([[0.8448413]], dtype=float32)"
      ]
     },
     "execution_count": 84,
     "metadata": {},
     "output_type": "execute_result"
    }
   ],
   "source": [
    "model.predict(kings_vs_suns) # Actual result: Kings W 3-1"
   ]
  },
  {
   "cell_type": "code",
   "execution_count": 85,
   "metadata": {},
   "outputs": [
    {
     "name": "stdout",
     "output_type": "stream",
     "text": [
      "1/1 [==============================] - 0s 19ms/step\n"
     ]
    },
    {
     "data": {
      "text/plain": [
       "array([[0.76108074]], dtype=float32)"
      ]
     },
     "execution_count": 85,
     "metadata": {},
     "output_type": "execute_result"
    }
   ],
   "source": [
    "model.predict(spurs_vs_wolves) # Actual Result: Spurs W 3-1"
   ]
  },
  {
   "cell_type": "code",
   "execution_count": 86,
   "metadata": {},
   "outputs": [
    {
     "name": "stdout",
     "output_type": "stream",
     "text": [
      "1/1 [==============================] - 0s 23ms/step\n"
     ]
    },
    {
     "data": {
      "text/plain": [
       "array([[0.6066924]], dtype=float32)"
      ]
     },
     "execution_count": 86,
     "metadata": {},
     "output_type": "execute_result"
    }
   ],
   "source": [
    "model.predict(hornets_vs_heat) # Actual Result: Hornets W 3-0"
   ]
  },
  {
   "cell_type": "code",
   "execution_count": 87,
   "metadata": {},
   "outputs": [
    {
     "name": "stdout",
     "output_type": "stream",
     "text": [
      "1/1 [==============================] - 0s 20ms/step\n"
     ]
    },
    {
     "data": {
      "text/plain": [
       "array([[0.6545932]], dtype=float32)"
      ]
     },
     "execution_count": 87,
     "metadata": {},
     "output_type": "execute_result"
    }
   ],
   "source": [
    "model.predict(bucks_vs_magic) #Actual Result: Bucks W 3-1"
   ]
  },
  {
   "cell_type": "code",
   "execution_count": 88,
   "metadata": {},
   "outputs": [
    {
     "name": "stdout",
     "output_type": "stream",
     "text": [
      "1/1 [==============================] - 0s 18ms/step\n"
     ]
    },
    {
     "data": {
      "text/plain": [
       "array([[0.58582693]], dtype=float32)"
      ]
     },
     "execution_count": 88,
     "metadata": {},
     "output_type": "execute_result"
    }
   ],
   "source": [
    "model.predict(sixers_vs_pacers) #Actual Result: Sixers W 3-1"
   ]
  },
  {
   "cell_type": "code",
   "execution_count": 89,
   "metadata": {},
   "outputs": [
    {
     "name": "stdout",
     "output_type": "stream",
     "text": [
      "1/1 [==============================] - 0s 21ms/step\n"
     ]
    },
    {
     "data": {
      "text/plain": [
       "array([[0.83017826]], dtype=float32)"
      ]
     },
     "execution_count": 89,
     "metadata": {},
     "output_type": "execute_result"
    }
   ],
   "source": [
    "model.predict(raptors_vs_knicks) #Actual Result: Raptors W 3-2"
   ]
  },
  {
   "cell_type": "markdown",
   "metadata": {},
   "source": [
    "## Conference Semifinals"
   ]
  },
  {
   "cell_type": "code",
   "execution_count": 95,
   "metadata": {},
   "outputs": [],
   "source": [
    "lakers_vs_kings = get_matchup_df(conn, \"lakers\", \"kings\")\n",
    "spurs_vs_mavs = get_matchup_df(conn, \"spurs\", \"mavericks\")\n",
    "sixers_vs_raptors = get_matchup_df(conn, \"sixers\", \"raptors\")\n",
    "bucks_vs_hornets = get_matchup_df(conn, \"bucks\", \"hornets\")"
   ]
  },
  {
   "cell_type": "code",
   "execution_count": 91,
   "metadata": {},
   "outputs": [
    {
     "name": "stdout",
     "output_type": "stream",
     "text": [
      "1/1 [==============================] - 0s 51ms/step\n"
     ]
    },
    {
     "data": {
      "text/plain": [
       "array([[0.57875705]], dtype=float32)"
      ]
     },
     "execution_count": 91,
     "metadata": {},
     "output_type": "execute_result"
    }
   ],
   "source": [
    "model.predict(lakers_vs_kings) # Actual Result: Lakers W 4-0"
   ]
  },
  {
   "cell_type": "code",
   "execution_count": 93,
   "metadata": {},
   "outputs": [
    {
     "name": "stdout",
     "output_type": "stream",
     "text": [
      "1/1 [==============================] - 0s 18ms/step\n"
     ]
    },
    {
     "data": {
      "text/plain": [
       "array([[0.6902155]], dtype=float32)"
      ]
     },
     "execution_count": 93,
     "metadata": {},
     "output_type": "execute_result"
    }
   ],
   "source": [
    "model.predict(spurs_vs_mavs) # Actual Result: Spurs W 4-1"
   ]
  },
  {
   "cell_type": "code",
   "execution_count": 96,
   "metadata": {},
   "outputs": [
    {
     "name": "stdout",
     "output_type": "stream",
     "text": [
      "1/1 [==============================] - 0s 19ms/step\n"
     ]
    },
    {
     "data": {
      "text/plain": [
       "array([[0.5131549]], dtype=float32)"
      ]
     },
     "execution_count": 96,
     "metadata": {},
     "output_type": "execute_result"
    }
   ],
   "source": [
    "model.predict(sixers_vs_raptors) #Actual Result: Sixers W 4-3 "
   ]
  },
  {
   "cell_type": "code",
   "execution_count": 97,
   "metadata": {},
   "outputs": [
    {
     "name": "stdout",
     "output_type": "stream",
     "text": [
      "1/1 [==============================] - 0s 27ms/step\n"
     ]
    },
    {
     "data": {
      "text/plain": [
       "array([[0.7862208]], dtype=float32)"
      ]
     },
     "execution_count": 97,
     "metadata": {},
     "output_type": "execute_result"
    }
   ],
   "source": [
    "model.predict(bucks_vs_hornets) # Actual Result: Bucks W 4-3"
   ]
  },
  {
   "cell_type": "markdown",
   "metadata": {},
   "source": [
    "## Conference Finals"
   ]
  },
  {
   "cell_type": "code",
   "execution_count": 98,
   "metadata": {},
   "outputs": [],
   "source": [
    "lakers_vs_spurs = get_matchup_df(conn, \"lakers\", \"spurs\")\n",
    "sixers_vs_bucks = get_matchup_df(conn, \"sixers\", \"bucks\")"
   ]
  },
  {
   "cell_type": "code",
   "execution_count": 99,
   "metadata": {},
   "outputs": [
    {
     "name": "stdout",
     "output_type": "stream",
     "text": [
      "1/1 [==============================] - 0s 18ms/step\n"
     ]
    },
    {
     "data": {
      "text/plain": [
       "array([[0.5604064]], dtype=float32)"
      ]
     },
     "execution_count": 99,
     "metadata": {},
     "output_type": "execute_result"
    }
   ],
   "source": [
    "model.predict(lakers_vs_spurs) # Actual Result: Lakers W 4-0"
   ]
  },
  {
   "cell_type": "code",
   "execution_count": 100,
   "metadata": {},
   "outputs": [
    {
     "name": "stdout",
     "output_type": "stream",
     "text": [
      "1/1 [==============================] - 0s 23ms/step\n"
     ]
    },
    {
     "data": {
      "text/plain": [
       "array([[0.49856293]], dtype=float32)"
      ]
     },
     "execution_count": 100,
     "metadata": {},
     "output_type": "execute_result"
    }
   ],
   "source": [
    "model.predict(sixers_vs_bucks) # Actual Result: Sixers W 4-3 First Incorrect Prediction :("
   ]
  },
  {
   "cell_type": "markdown",
   "metadata": {},
   "source": [
    "## NBA Finals"
   ]
  },
  {
   "cell_type": "code",
   "execution_count": 101,
   "metadata": {},
   "outputs": [
    {
     "name": "stdout",
     "output_type": "stream",
     "text": [
      "1/1 [==============================] - 0s 17ms/step\n"
     ]
    },
    {
     "data": {
      "text/plain": [
       "array([[0.6102966]], dtype=float32)"
      ]
     },
     "execution_count": 101,
     "metadata": {},
     "output_type": "execute_result"
    }
   ],
   "source": [
    "model.predict(get_matchup_df(conn, \"lakers\", \"bucks\")) # Actual Result, Lakers beat sixers 4-1"
   ]
  },
  {
   "cell_type": "code",
   "execution_count": 102,
   "metadata": {},
   "outputs": [],
   "source": [
    "conn.close()"
   ]
  },
  {
   "cell_type": "code",
   "execution_count": null,
   "metadata": {},
   "outputs": [],
   "source": []
  }
 ],
 "metadata": {
  "kernelspec": {
   "display_name": "PIC16B",
   "language": "python",
   "name": "python3"
  },
  "language_info": {
   "codemirror_mode": {
    "name": "ipython",
    "version": 3
   },
   "file_extension": ".py",
   "mimetype": "text/x-python",
   "name": "python",
   "nbconvert_exporter": "python",
   "pygments_lexer": "ipython3",
   "version": "3.9.18"
  }
 },
 "nbformat": 4,
 "nbformat_minor": 2
}
